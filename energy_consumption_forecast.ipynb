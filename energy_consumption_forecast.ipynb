{
 "cells": [
  {
   "cell_type": "markdown",
   "id": "d32384da",
   "metadata": {},
   "source": [
    "#### Import packages"
   ]
  },
  {
   "cell_type": "code",
   "execution_count": null,
   "id": "5e097988",
   "metadata": {},
   "outputs": [],
   "source": [
    "import os\n",
    "import sys\n",
    "\n",
    "import numpy as np\n",
    "import pandas as pd\n",
    "import matplotlib.pyplot as plt\n",
    "%matplotlib inline"
   ]
  },
  {
   "cell_type": "markdown",
   "id": "4a6039ca",
   "metadata": {},
   "source": [
    "#### Load the data"
   ]
  },
  {
   "cell_type": "code",
   "execution_count": 1,
   "id": "91ab7da9",
   "metadata": {},
   "outputs": [
    {
     "data": {
      "text/plain": [
       "['Date-Time,Global_active_power,Global_reactive_power,Voltage,Global_intensity,Sub_metering_1,Sub_metering_2,Sub_metering_3\\n',\n",
       " '2006-12-16 17:24:00,4.216,0.418,234.84,18.4,0.0,1.0,17.0\\n',\n",
       " '2006-12-16 17:25:00,5.36,0.436,233.63,23.0,0.0,1.0,16.0\\n',\n",
       " '2006-12-16 17:26:00,5.374,0.498,233.29,23.0,0.0,2.0,17.0\\n',\n",
       " '2006-12-16 17:27:00,5.388,0.502,233.74,23.0,0.0,1.0,17.0\\n',\n",
       " '2006-12-16 17:28:00,3.666,0.528,235.68,15.8,0.0,1.0,17.0\\n',\n",
       " '2006-12-16 17:29:00,3.52,0.522,235.02,15.0,0.0,2.0,17.0\\n',\n",
       " '2006-12-16 17:30:00,3.702,0.52,235.09,15.8,0.0,1.0,17.0\\n',\n",
       " '2006-12-16 17:31:00,3.7,0.52,235.22,15.8,0.0,1.0,17.0\\n',\n",
       " '2006-12-16 17:32:00,3.668,0.51,233.99,15.8,0.0,1.0,17.0\\n']"
      ]
     },
     "metadata": {},
     "output_type": "display_data"
    }
   ],
   "source": [
    "n_lines = 10\n",
    "\n",
    "with open('new_household_power_consumption.txt') as file:\n",
    "    head = [next(file) for line in range(n_lines)]\n",
    "    \n",
    "display(head)"
   ]
  },
  {
   "cell_type": "code",
   "execution_count": null,
   "id": "bc9e222d",
   "metadata": {},
   "outputs": [],
   "source": [
    "df = pd.read_csv(\"new_household_power_consumption.txt\")"
   ]
  },
  {
   "cell_type": "code",
   "execution_count": null,
   "id": "a1e6df9c",
   "metadata": {},
   "outputs": [],
   "source": [
    "lst = [\"Date-Time\", \"Global_active_power\", \"Global_reactive_power\", \"Voltage\",\n",
    "       \"Global_intensity\", \"Sub_metering_1\", \"Sub_metering_2\", \"Sub_metering_3\"]"
   ]
  },
  {
   "cell_type": "markdown",
   "id": "49330162",
   "metadata": {},
   "source": [
    "##### Global Active Power\n",
    "\n",
    "- In this example, we'll want to predict the global active power, which is the household minute-averaged active power (kilowatt), measured across the globe. So, below, I am getting just that column of data and displaying the resultant plot."
   ]
  },
  {
   "cell_type": "code",
   "execution_count": null,
   "id": "cc42e5c4",
   "metadata": {},
   "outputs": [],
   "source": [
    "power_df = df['Global_active_power'].copy()\n",
    "power_df.shape"
   ]
  },
  {
   "cell_type": "code",
   "execution_count": null,
   "id": "a1b5afb1",
   "metadata": {},
   "outputs": [],
   "source": [
    "# display the data \n",
    "plt.figure(figsize=(12,6))\n",
    "# all data points\n",
    "power_df.plot(title='Global active power', color='blue') \n",
    "plt.show()"
   ]
  },
  {
   "cell_type": "markdown",
   "id": "f1c81590",
   "metadata": {},
   "source": [
    "- Since the data is recorded each minute, the above plot contains a lot of values. So, I'm also showing just a slice of data, below."
   ]
  },
  {
   "cell_type": "code",
   "execution_count": null,
   "id": "cfc58039",
   "metadata": {},
   "outputs": [],
   "source": [
    "# can plot a slice of hourly data\n",
    "end_mins = 1440 # 1440 mins = 1 day\n",
    "\n",
    "plt.figure(figsize=(12,6))\n",
    "power_df[0:end_mins].plot(title='Global active power, over one day', color='blue') \n",
    "plt.show()"
   ]
  },
  {
   "cell_type": "markdown",
   "id": "e56541ea",
   "metadata": {},
   "source": [
    "##### Hourly vs Daily\n",
    "\n",
    "There is a lot of data, collected every minute, and so I could go one of two ways with my analysis:\n",
    "1. Create many, short time series, say a week or so long, in which I record energy consumption every hour, and try to predict the energy consumption over the following hours or days.\n",
    "2. Create fewer, long time series with data recorded daily that I could use to predict usage in the following weeks or months."
   ]
  },
  {
   "cell_type": "markdown",
   "id": "b88fa521",
   "metadata": {},
   "source": [
    "- Both tasks are interesting! It depends on whether you want to predict time patterns over a day/week or over a longer time period, like a month.\n",
    "- With the amount of data I have, I think it would be interesting to see longer, recurring trends that happen over several months or over a year.\n",
    "- So, I will resample the 'Global active power' values, recording daily data points as averages over 24-hr periods."
   ]
  },
  {
   "cell_type": "code",
   "execution_count": null,
   "id": "e8413719",
   "metadata": {},
   "outputs": [],
   "source": [
    "power_df"
   ]
  },
  {
   "cell_type": "code",
   "execution_count": null,
   "id": "df8f98b4",
   "metadata": {},
   "outputs": [],
   "source": [
    "df.columns"
   ]
  },
  {
   "cell_type": "code",
   "execution_count": null,
   "id": "b23c5348",
   "metadata": {},
   "outputs": [],
   "source": [
    "df.info()"
   ]
  },
  {
   "cell_type": "code",
   "execution_count": null,
   "id": "c9d46cce",
   "metadata": {},
   "outputs": [],
   "source": [
    "df['Date-Time'] = pd.to_datetime(df['Date-Time'])"
   ]
  },
  {
   "cell_type": "code",
   "execution_count": null,
   "id": "0462c4b9",
   "metadata": {},
   "outputs": [],
   "source": [
    "df.info()"
   ]
  },
  {
   "cell_type": "code",
   "execution_count": null,
   "id": "fb7b0838",
   "metadata": {},
   "outputs": [],
   "source": [
    "datatime_df = df['Date-Time'].copy()\n",
    "datatime_df"
   ]
  },
  {
   "cell_type": "code",
   "execution_count": null,
   "id": "198a5bef",
   "metadata": {},
   "outputs": [],
   "source": []
  },
  {
   "cell_type": "code",
   "execution_count": null,
   "id": "72e07ce7",
   "metadata": {},
   "outputs": [],
   "source": [
    "mean_datatime_df = datatime_df.resample(\"D\").mean()"
   ]
  },
  {
   "cell_type": "code",
   "execution_count": null,
   "id": "c527f101",
   "metadata": {},
   "outputs": [],
   "source": [
    "# resample over day (D)\n",
    "freq = '24h'\n",
    "# calculate the mean active power for a day\n",
    "mean_power_df = power_df.resample(freq)"
   ]
  },
  {
   "cell_type": "code",
   "execution_count": null,
   "id": "2922a1ac",
   "metadata": {},
   "outputs": [],
   "source": [
    "# display the mean values\n",
    "plt.figure(figsize=(15, 8))\n",
    "mean_power_df.plot(title='Global active power, mean per day', color='blue')\n",
    "plt.tight_layout()\n",
    "plt.show()"
   ]
  },
  {
   "cell_type": "code",
   "execution_count": null,
   "id": "4294f97d",
   "metadata": {},
   "outputs": [],
   "source": []
  }
 ],
 "metadata": {
  "kernelspec": {
   "display_name": "iron-net",
   "language": "python",
   "name": "python3"
  },
  "language_info": {
   "codemirror_mode": {
    "name": "ipython",
    "version": 3
   },
   "file_extension": ".py",
   "mimetype": "text/x-python",
   "name": "python",
   "nbconvert_exporter": "python",
   "pygments_lexer": "ipython3",
   "version": "3.8.18"
  }
 },
 "nbformat": 4,
 "nbformat_minor": 5
}

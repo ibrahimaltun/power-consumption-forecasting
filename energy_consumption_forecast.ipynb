{
 "cells": [
  {
   "cell_type": "markdown",
   "id": "994605c7",
   "metadata": {},
   "source": [
    "#### Time Series Forecasting"
   ]
  },
  {
   "cell_type": "markdown",
   "id": "7bd6d090",
   "metadata": {},
   "source": [
    "- A time series is data collected periodically, over time.\n",
    "- Time series forecasting is the task of predicting future data points, given some historical data. It is commonly used in a variety of tasks from weather forecasting, retail and sales forecasting, stock market prediction, and in behavior prediction (such as predicting the flow of car traffic over a day). There is a lot of time series data out there, and recognizing patterns in that data is an active area of machine learning research!"
   ]
  },
  {
   "cell_type": "code",
   "execution_count": null,
   "id": "ffe14995",
   "metadata": {},
   "outputs": [],
   "source": []
  },
  {
   "cell_type": "markdown",
   "id": "84baf3dd",
   "metadata": {},
   "source": [
    "#### Machine Learning Workflow"
   ]
  },
  {
   "cell_type": "markdown",
   "id": "8f596deb",
   "metadata": {},
   "source": [
    "This notebook approaches time series forecasting in a number of steps:\n",
    "\n",
    "- Loading and exploring the data\n",
    "- Creating training and test sets of time series\n",
    "- Formatting data as JSON files and uploading to S3\n",
    "- Instantiating and training a DeepAR estimator\n",
    "- Deploying a model and creating a predictor\n",
    "- Evaluating the predictor\n"
   ]
  },
  {
   "cell_type": "code",
   "execution_count": null,
   "id": "64a0c9c3",
   "metadata": {},
   "outputs": [],
   "source": []
  },
  {
   "cell_type": "markdown",
   "id": "d32384da",
   "metadata": {},
   "source": [
    "#### Import packages"
   ]
  },
  {
   "cell_type": "code",
   "execution_count": 1,
   "id": "5e097988",
   "metadata": {},
   "outputs": [],
   "source": [
    "import numpy as np\n",
    "import pandas as pd\n",
    "import matplotlib.pyplot as plt\n",
    "%matplotlib inline"
   ]
  },
  {
   "cell_type": "markdown",
   "id": "4a6039ca",
   "metadata": {},
   "source": [
    "#### Load the data"
   ]
  },
  {
   "cell_type": "code",
   "execution_count": 2,
   "id": "91ab7da9",
   "metadata": {},
   "outputs": [
    {
     "data": {
      "text/plain": [
       "['Date;Time;Global_active_power;Global_reactive_power;Voltage;Global_intensity;Sub_metering_1;Sub_metering_2;Sub_metering_3\\n',\n",
       " '16/12/2006;17:24:00;4.216;0.418;234.840;18.400;0.000;1.000;17.000\\n',\n",
       " '16/12/2006;17:25:00;5.360;0.436;233.630;23.000;0.000;1.000;16.000\\n',\n",
       " '16/12/2006;17:26:00;5.374;0.498;233.290;23.000;0.000;2.000;17.000\\n',\n",
       " '16/12/2006;17:27:00;5.388;0.502;233.740;23.000;0.000;1.000;17.000\\n',\n",
       " '16/12/2006;17:28:00;3.666;0.528;235.680;15.800;0.000;1.000;17.000\\n',\n",
       " '16/12/2006;17:29:00;3.520;0.522;235.020;15.000;0.000;2.000;17.000\\n',\n",
       " '16/12/2006;17:30:00;3.702;0.520;235.090;15.800;0.000;1.000;17.000\\n',\n",
       " '16/12/2006;17:31:00;3.700;0.520;235.220;15.800;0.000;1.000;17.000\\n',\n",
       " '16/12/2006;17:32:00;3.668;0.510;233.990;15.800;0.000;1.000;17.000\\n']"
      ]
     },
     "metadata": {},
     "output_type": "display_data"
    }
   ],
   "source": [
    "n_lines = 10\n",
    "\n",
    "with open('household_power_consumption.txt') as file:\n",
    "    head = [next(file) for line in range(n_lines)]\n",
    "    \n",
    "display(head)"
   ]
  },
  {
   "cell_type": "code",
   "execution_count": null,
   "id": "cc42e5c4",
   "metadata": {},
   "outputs": [],
   "source": []
  }
 ],
 "metadata": {
  "kernelspec": {
   "display_name": "iron-net",
   "language": "python",
   "name": "python3"
  },
  "language_info": {
   "codemirror_mode": {
    "name": "ipython",
    "version": 3
   },
   "file_extension": ".py",
   "mimetype": "text/x-python",
   "name": "python",
   "nbconvert_exporter": "python",
   "pygments_lexer": "ipython3",
   "version": "3.8.18"
  }
 },
 "nbformat": 4,
 "nbformat_minor": 5
}
